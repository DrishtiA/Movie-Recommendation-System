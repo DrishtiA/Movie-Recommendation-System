{
 "cells": [
  {
   "cell_type": "code",
   "execution_count": 1,
   "id": "9f21d245",
   "metadata": {},
   "outputs": [],
   "source": [
    "import numpy as np\n",
    "import pandas as pd\n",
    "import matplotlib.pyplot as plt\n",
    "import seaborn as sns"
   ]
  },
  {
   "cell_type": "code",
   "execution_count": 5,
   "id": "2dec11e4",
   "metadata": {},
   "outputs": [
    {
     "data": {
      "text/html": [
       "<div>\n",
       "<style scoped>\n",
       "    .dataframe tbody tr th:only-of-type {\n",
       "        vertical-align: middle;\n",
       "    }\n",
       "\n",
       "    .dataframe tbody tr th {\n",
       "        vertical-align: top;\n",
       "    }\n",
       "\n",
       "    .dataframe thead th {\n",
       "        text-align: right;\n",
       "    }\n",
       "</style>\n",
       "<table border=\"1\" class=\"dataframe\">\n",
       "  <thead>\n",
       "    <tr style=\"text-align: right;\">\n",
       "      <th></th>\n",
       "      <th>userId</th>\n",
       "      <th>movieId</th>\n",
       "      <th>rating</th>\n",
       "      <th>timestamp</th>\n",
       "    </tr>\n",
       "  </thead>\n",
       "  <tbody>\n",
       "    <tr>\n",
       "      <th>0</th>\n",
       "      <td>1</td>\n",
       "      <td>296</td>\n",
       "      <td>5.0</td>\n",
       "      <td>1147880044</td>\n",
       "    </tr>\n",
       "    <tr>\n",
       "      <th>1</th>\n",
       "      <td>1</td>\n",
       "      <td>306</td>\n",
       "      <td>3.5</td>\n",
       "      <td>1147868817</td>\n",
       "    </tr>\n",
       "    <tr>\n",
       "      <th>2</th>\n",
       "      <td>1</td>\n",
       "      <td>307</td>\n",
       "      <td>5.0</td>\n",
       "      <td>1147868828</td>\n",
       "    </tr>\n",
       "    <tr>\n",
       "      <th>3</th>\n",
       "      <td>1</td>\n",
       "      <td>665</td>\n",
       "      <td>5.0</td>\n",
       "      <td>1147878820</td>\n",
       "    </tr>\n",
       "    <tr>\n",
       "      <th>4</th>\n",
       "      <td>1</td>\n",
       "      <td>899</td>\n",
       "      <td>3.5</td>\n",
       "      <td>1147868510</td>\n",
       "    </tr>\n",
       "  </tbody>\n",
       "</table>\n",
       "</div>"
      ],
      "text/plain": [
       "   userId  movieId  rating   timestamp\n",
       "0       1      296     5.0  1147880044\n",
       "1       1      306     3.5  1147868817\n",
       "2       1      307     5.0  1147868828\n",
       "3       1      665     5.0  1147878820\n",
       "4       1      899     3.5  1147868510"
      ]
     },
     "execution_count": 5,
     "metadata": {},
     "output_type": "execute_result"
    }
   ],
   "source": [
    "ratings = pd.read_csv(\"ratings.csv\")\n",
    "movies = pd.read_csv(\"movies.csv\")\n",
    "ratings.head()\n",
    "#mvoies.head()"
   ]
  },
  {
   "cell_type": "code",
   "execution_count": 6,
   "id": "e0a9e44c",
   "metadata": {},
   "outputs": [
    {
     "data": {
      "text/html": [
       "<div>\n",
       "<style scoped>\n",
       "    .dataframe tbody tr th:only-of-type {\n",
       "        vertical-align: middle;\n",
       "    }\n",
       "\n",
       "    .dataframe tbody tr th {\n",
       "        vertical-align: top;\n",
       "    }\n",
       "\n",
       "    .dataframe thead th {\n",
       "        text-align: right;\n",
       "    }\n",
       "</style>\n",
       "<table border=\"1\" class=\"dataframe\">\n",
       "  <thead>\n",
       "    <tr style=\"text-align: right;\">\n",
       "      <th></th>\n",
       "      <th>movieId</th>\n",
       "      <th>title</th>\n",
       "      <th>genres</th>\n",
       "    </tr>\n",
       "  </thead>\n",
       "  <tbody>\n",
       "    <tr>\n",
       "      <th>0</th>\n",
       "      <td>1</td>\n",
       "      <td>Toy Story (1995)</td>\n",
       "      <td>Adventure|Animation|Children|Comedy|Fantasy</td>\n",
       "    </tr>\n",
       "    <tr>\n",
       "      <th>1</th>\n",
       "      <td>2</td>\n",
       "      <td>Jumanji (1995)</td>\n",
       "      <td>Adventure|Children|Fantasy</td>\n",
       "    </tr>\n",
       "    <tr>\n",
       "      <th>2</th>\n",
       "      <td>3</td>\n",
       "      <td>Grumpier Old Men (1995)</td>\n",
       "      <td>Comedy|Romance</td>\n",
       "    </tr>\n",
       "    <tr>\n",
       "      <th>3</th>\n",
       "      <td>4</td>\n",
       "      <td>Waiting to Exhale (1995)</td>\n",
       "      <td>Comedy|Drama|Romance</td>\n",
       "    </tr>\n",
       "    <tr>\n",
       "      <th>4</th>\n",
       "      <td>5</td>\n",
       "      <td>Father of the Bride Part II (1995)</td>\n",
       "      <td>Comedy</td>\n",
       "    </tr>\n",
       "  </tbody>\n",
       "</table>\n",
       "</div>"
      ],
      "text/plain": [
       "   movieId                               title  \\\n",
       "0        1                    Toy Story (1995)   \n",
       "1        2                      Jumanji (1995)   \n",
       "2        3             Grumpier Old Men (1995)   \n",
       "3        4            Waiting to Exhale (1995)   \n",
       "4        5  Father of the Bride Part II (1995)   \n",
       "\n",
       "                                        genres  \n",
       "0  Adventure|Animation|Children|Comedy|Fantasy  \n",
       "1                   Adventure|Children|Fantasy  \n",
       "2                               Comedy|Romance  \n",
       "3                         Comedy|Drama|Romance  \n",
       "4                                       Comedy  "
      ]
     },
     "execution_count": 6,
     "metadata": {},
     "output_type": "execute_result"
    }
   ],
   "source": [
    "movies.head()"
   ]
  },
  {
   "cell_type": "code",
   "execution_count": 7,
   "id": "d998a47f",
   "metadata": {},
   "outputs": [
    {
     "name": "stdout",
     "output_type": "stream",
     "text": [
      "Number of ratings: 25000095\n",
      "Number of unique movieId's: 59047\n",
      "Number of unique users: 162541\n",
      "Average number of ratings per user: 153.81\n",
      "Average number of ratings per movie: 423.39\n"
     ]
    }
   ],
   "source": [
    "n_ratings = len(ratings)\n",
    "n_movies = ratings['movieId'].nunique()\n",
    "n_users = ratings['userId'].nunique()\n",
    "\n",
    "print(f\"Number of ratings: {n_ratings}\")\n",
    "print(f\"Number of unique movieId's: {n_movies}\")\n",
    "print(f\"Number of unique users: {n_users}\")\n",
    "print(f\"Average number of ratings per user: {round(n_ratings/n_users, 2)}\")\n",
    "print(f\"Average number of ratings per movie: {round(n_ratings/n_movies, 2)}\")"
   ]
  },
  {
   "cell_type": "code",
   "execution_count": 8,
   "id": "27b5fdc5",
   "metadata": {},
   "outputs": [
    {
     "data": {
      "image/png": "[encoded data removed]",
      "text/plain": [
       "<Figure size 640x480 with 1 Axes>"
      ]
     },
     "metadata": {},
     "output_type": "display_data"
    }
   ],
   "source": [
    "sns.countplot(x = 'rating', data = ratings)\n",
    "plt.title(\"Distribution of movie ratings\", fontsize=14)\n",
    "plt.show()"
   ]
  },
  {
   "cell_type": "code",
   "execution_count": 9,
   "id": "8c8aa585",
   "metadata": {},
   "outputs": [
    {
     "name": "stdout",
     "output_type": "stream",
     "text": [
      "Mean global rating: 3.53.\n"
     ]
    }
   ],
   "source": [
    "print(f\"Mean global rating: {round(ratings['rating'].mean(),2)}.\")"
   ]
  },
  {
   "cell_type": "code",
   "execution_count": 11,
   "id": "69e655df",
   "metadata": {},
   "outputs": [
    {
     "name": "stdout",
     "output_type": "stream",
     "text": [
      "Mean rating per user: 3.68.\n"
     ]
    }
   ],
   "source": [
    "mean_ratings = ratings.groupby('userId')['rating'].mean()\n",
    "print(f\"Mean rating per user: {round(mean_ratings.mean(),2)}.\")"
   ]
  },
  {
   "cell_type": "code",
   "execution_count": 12,
   "id": "b671985a",
   "metadata": {},
   "outputs": [
    {
     "data": {
      "text/plain": [
       "movieId\n",
       "356       81491\n",
       "318       81482\n",
       "296       79672\n",
       "593       74127\n",
       "2571      72674\n",
       "          ...  \n",
       "193109        1\n",
       "112393        1\n",
       "142793        1\n",
       "111842        1\n",
       "200728        1\n",
       "Name: count, Length: 59047, dtype: int64"
      ]
     },
     "execution_count": 12,
     "metadata": {},
     "output_type": "execute_result"
    }
   ],
   "source": [
    "ratings['movieId'].value_counts()"
   ]
  },
  {
   "cell_type": "code",
   "execution_count": 14,
   "id": "01a93005",
   "metadata": {},
   "outputs": [
    {
     "data": {
      "text/plain": [
       "title\n",
       "Forrest Gump (1994)                          81491\n",
       "Shawshank Redemption, The (1994)             81482\n",
       "Pulp Fiction (1994)                          79672\n",
       "Silence of the Lambs, The (1991)             74127\n",
       "Matrix, The (1999)                           72674\n",
       "Star Wars: Episode IV - A New Hope (1977)    68717\n",
       "Jurassic Park (1993)                         64144\n",
       "Schindler's List (1993)                      60411\n",
       "Braveheart (1995)                            59184\n",
       "Fight Club (1999)                            58773\n",
       "Name: count, dtype: int64"
      ]
     },
     "execution_count": 14,
     "metadata": {},
     "output_type": "execute_result"
    }
   ],
   "source": [
    "movie_ratings = ratings.merge(movies, on='movieId')\n",
    "# movie_ratings\n",
    "movie_ratings['title'].value_counts()[0:10]"
   ]
  },
  {
   "cell_type": "code",
   "execution_count": 16,
   "id": "9f25ef1a",
   "metadata": {},
   "outputs": [
    {
     "data": {
      "text/html": [
       "<div>\n",
       "<style scoped>\n",
       "    .dataframe tbody tr th:only-of-type {\n",
       "        vertical-align: middle;\n",
       "    }\n",
       "\n",
       "    .dataframe tbody tr th {\n",
       "        vertical-align: top;\n",
       "    }\n",
       "\n",
       "    .dataframe thead th {\n",
       "        text-align: right;\n",
       "    }\n",
       "</style>\n",
       "<table border=\"1\" class=\"dataframe\">\n",
       "  <thead>\n",
       "    <tr style=\"text-align: right;\">\n",
       "      <th></th>\n",
       "      <th>movieId</th>\n",
       "      <th>title</th>\n",
       "      <th>genres</th>\n",
       "    </tr>\n",
       "  </thead>\n",
       "  <tbody>\n",
       "    <tr>\n",
       "      <th>5693</th>\n",
       "      <td>5805</td>\n",
       "      <td>Besotted (2001)</td>\n",
       "      <td>Drama</td>\n",
       "    </tr>\n",
       "  </tbody>\n",
       "</table>\n",
       "</div>"
      ],
      "text/plain": [
       "      movieId            title genres\n",
       "5693     5805  Besotted (2001)  Drama"
      ]
     },
     "execution_count": 16,
     "metadata": {},
     "output_type": "execute_result"
    }
   ],
   "source": [
    "mean_ratings = ratings.groupby('movieId')[['rating']].mean()\n",
    "lowest_rated = mean_ratings['rating'].idxmin()\n",
    "# movie_ratings\n",
    "movies[movies['movieId'] == lowest_rated ]"
   ]
  },
  {
   "cell_type": "code",
   "execution_count": 18,
   "id": "2ee52c8c",
   "metadata": {},
   "outputs": [
    {
     "data": {
      "text/html": [
       "<div>\n",
       "<style scoped>\n",
       "    .dataframe tbody tr th:only-of-type {\n",
       "        vertical-align: middle;\n",
       "    }\n",
       "\n",
       "    .dataframe tbody tr th {\n",
       "        vertical-align: top;\n",
       "    }\n",
       "\n",
       "    .dataframe thead th {\n",
       "        text-align: right;\n",
       "    }\n",
       "</style>\n",
       "<table border=\"1\" class=\"dataframe\">\n",
       "  <thead>\n",
       "    <tr style=\"text-align: right;\">\n",
       "      <th></th>\n",
       "      <th>movieId</th>\n",
       "      <th>title</th>\n",
       "      <th>genres</th>\n",
       "    </tr>\n",
       "  </thead>\n",
       "  <tbody>\n",
       "    <tr>\n",
       "      <th>9416</th>\n",
       "      <td>27914</td>\n",
       "      <td>Hijacking Catastrophe: 9/11, Fear &amp; the Sellin...</td>\n",
       "      <td>Documentary</td>\n",
       "    </tr>\n",
       "  </tbody>\n",
       "</table>\n",
       "</div>"
      ],
      "text/plain": [
       "      movieId                                              title       genres\n",
       "9416    27914  Hijacking Catastrophe: 9/11, Fear & the Sellin...  Documentary"
      ]
     },
     "execution_count": 18,
     "metadata": {},
     "output_type": "execute_result"
    }
   ],
   "source": [
    "highest_rated = mean_ratings['rating'].idxmax()\n",
    "movies[movies['movieId'] == highest_rated]\n",
    "# highest_rated"
   ]
  },
  {
   "cell_type": "code",
   "execution_count": 19,
   "id": "8eddc7a3",
   "metadata": {},
   "outputs": [
    {
     "data": {
      "text/html": [
       "<div>\n",
       "<style scoped>\n",
       "    .dataframe tbody tr th:only-of-type {\n",
       "        vertical-align: middle;\n",
       "    }\n",
       "\n",
       "    .dataframe tbody tr th {\n",
       "        vertical-align: top;\n",
       "    }\n",
       "\n",
       "    .dataframe thead th {\n",
       "        text-align: right;\n",
       "    }\n",
       "</style>\n",
       "<table border=\"1\" class=\"dataframe\">\n",
       "  <thead>\n",
       "    <tr style=\"text-align: right;\">\n",
       "      <th></th>\n",
       "      <th>userId</th>\n",
       "      <th>movieId</th>\n",
       "      <th>rating</th>\n",
       "      <th>timestamp</th>\n",
       "    </tr>\n",
       "  </thead>\n",
       "  <tbody>\n",
       "    <tr>\n",
       "      <th>19328266</th>\n",
       "      <td>125475</td>\n",
       "      <td>27914</td>\n",
       "      <td>5.0</td>\n",
       "      <td>1409649085</td>\n",
       "    </tr>\n",
       "  </tbody>\n",
       "</table>\n",
       "</div>"
      ],
      "text/plain": [
       "          userId  movieId  rating   timestamp\n",
       "19328266  125475    27914     5.0  1409649085"
      ]
     },
     "execution_count": 19,
     "metadata": {},
     "output_type": "execute_result"
    }
   ],
   "source": [
    "ratings[ratings['movieId']==highest_rated]"
   ]
  },
  {
   "cell_type": "code",
   "execution_count": 20,
   "id": "e6620884",
   "metadata": {},
   "outputs": [
    {
     "data": {
      "text/html": [
       "<div>\n",
       "<style scoped>\n",
       "    .dataframe tbody tr th:only-of-type {\n",
       "        vertical-align: middle;\n",
       "    }\n",
       "\n",
       "    .dataframe tbody tr th {\n",
       "        vertical-align: top;\n",
       "    }\n",
       "\n",
       "    .dataframe thead th {\n",
       "        text-align: right;\n",
       "    }\n",
       "</style>\n",
       "<table border=\"1\" class=\"dataframe\">\n",
       "  <thead>\n",
       "    <tr style=\"text-align: right;\">\n",
       "      <th></th>\n",
       "      <th>count</th>\n",
       "      <th>mean</th>\n",
       "    </tr>\n",
       "    <tr>\n",
       "      <th>movieId</th>\n",
       "      <th></th>\n",
       "      <th></th>\n",
       "    </tr>\n",
       "  </thead>\n",
       "  <tbody>\n",
       "    <tr>\n",
       "      <th>1</th>\n",
       "      <td>57309</td>\n",
       "      <td>3.893708</td>\n",
       "    </tr>\n",
       "    <tr>\n",
       "      <th>2</th>\n",
       "      <td>24228</td>\n",
       "      <td>3.251527</td>\n",
       "    </tr>\n",
       "    <tr>\n",
       "      <th>3</th>\n",
       "      <td>11804</td>\n",
       "      <td>3.142028</td>\n",
       "    </tr>\n",
       "    <tr>\n",
       "      <th>4</th>\n",
       "      <td>2523</td>\n",
       "      <td>2.853547</td>\n",
       "    </tr>\n",
       "    <tr>\n",
       "      <th>5</th>\n",
       "      <td>11714</td>\n",
       "      <td>3.058434</td>\n",
       "    </tr>\n",
       "  </tbody>\n",
       "</table>\n",
       "</div>"
      ],
      "text/plain": [
       "         count      mean\n",
       "movieId                 \n",
       "1        57309  3.893708\n",
       "2        24228  3.251527\n",
       "3        11804  3.142028\n",
       "4         2523  2.853547\n",
       "5        11714  3.058434"
      ]
     },
     "execution_count": 20,
     "metadata": {},
     "output_type": "execute_result"
    }
   ],
   "source": [
    "movie_stats = ratings.groupby('movieId')['rating'].agg(['count','mean'])\n",
    "movie_stats.head()"
   ]
  },
  {
   "cell_type": "code",
   "execution_count": 22,
   "id": "ae54f06e",
   "metadata": {},
   "outputs": [
    {
     "name": "stdout",
     "output_type": "stream",
     "text": [
      "Average number of ratings for a given movie: 423.39\n",
      "Average rating for a given movie: 3.07\n"
     ]
    }
   ],
   "source": [
    "C = movie_stats['count'].mean()\n",
    "m = movie_stats['mean'].mean()\n",
    "\n",
    "print(f\"Average number of ratings for a given movie: {C:.2f}\")\n",
    "print(f\"Average rating for a given movie: {m:.2f}\")\n",
    "\n",
    "def bayesian_avg(ratings):\n",
    "    bayesian_avg = (C*m+ratings.sum())/(C+ratings.count())\n",
    "    return round(bayesian_avg, 3)"
   ]
  },
  {
   "cell_type": "code",
   "execution_count": 23,
   "id": "8919eafa",
   "metadata": {},
   "outputs": [
    {
     "data": {
      "text/plain": [
       "3.08"
      ]
     },
     "execution_count": 23,
     "metadata": {},
     "output_type": "execute_result"
    }
   ],
   "source": [
    "lamerica = pd.Series([5,5])\n",
    "bayesian_avg(lamerica)"
   ]
  },
  {
   "cell_type": "code",
   "execution_count": 27,
   "id": "5b5bddde",
   "metadata": {},
   "outputs": [],
   "source": [
    "bayesian_avg_ratings = ratings.groupby('movieId')['rating'].agg(bayesian_avg).reset_index()\n",
    "bayesian_avg_ratings.columns = ['movieId', 'bayesian_avg']\n",
    "movie_stats = movie_stats.merge(bayesian_avg_ratings, on='movieId')\n",
    "# bayesian_avg_ratings"
   ]
  },
  {
   "cell_type": "code",
   "execution_count": 28,
   "id": "e8c0356f",
   "metadata": {},
   "outputs": [
    {
     "data": {
      "text/html": [
       "<div>\n",
       "<style scoped>\n",
       "    .dataframe tbody tr th:only-of-type {\n",
       "        vertical-align: middle;\n",
       "    }\n",
       "\n",
       "    .dataframe tbody tr th {\n",
       "        vertical-align: top;\n",
       "    }\n",
       "\n",
       "    .dataframe thead th {\n",
       "        text-align: right;\n",
       "    }\n",
       "</style>\n",
       "<table border=\"1\" class=\"dataframe\">\n",
       "  <thead>\n",
       "    <tr style=\"text-align: right;\">\n",
       "      <th></th>\n",
       "      <th>movieId</th>\n",
       "      <th>count</th>\n",
       "      <th>mean</th>\n",
       "      <th>bayesian_avg</th>\n",
       "    </tr>\n",
       "  </thead>\n",
       "  <tbody>\n",
       "    <tr>\n",
       "      <th>0</th>\n",
       "      <td>1</td>\n",
       "      <td>57309</td>\n",
       "      <td>3.893708</td>\n",
       "      <td>3.888</td>\n",
       "    </tr>\n",
       "    <tr>\n",
       "      <th>1</th>\n",
       "      <td>2</td>\n",
       "      <td>24228</td>\n",
       "      <td>3.251527</td>\n",
       "      <td>3.248</td>\n",
       "    </tr>\n",
       "    <tr>\n",
       "      <th>2</th>\n",
       "      <td>3</td>\n",
       "      <td>11804</td>\n",
       "      <td>3.142028</td>\n",
       "      <td>3.140</td>\n",
       "    </tr>\n",
       "    <tr>\n",
       "      <th>3</th>\n",
       "      <td>4</td>\n",
       "      <td>2523</td>\n",
       "      <td>2.853547</td>\n",
       "      <td>2.885</td>\n",
       "    </tr>\n",
       "    <tr>\n",
       "      <th>4</th>\n",
       "      <td>5</td>\n",
       "      <td>11714</td>\n",
       "      <td>3.058434</td>\n",
       "      <td>3.059</td>\n",
       "    </tr>\n",
       "  </tbody>\n",
       "</table>\n",
       "</div>"
      ],
      "text/plain": [
       "   movieId  count      mean  bayesian_avg\n",
       "0        1  57309  3.893708         3.888\n",
       "1        2  24228  3.251527         3.248\n",
       "2        3  11804  3.142028         3.140\n",
       "3        4   2523  2.853547         2.885\n",
       "4        5  11714  3.058434         3.059"
      ]
     },
     "execution_count": 28,
     "metadata": {},
     "output_type": "execute_result"
    }
   ],
   "source": [
    "movie_stats.head()"
   ]
  },
  {
   "cell_type": "code",
   "execution_count": 31,
   "id": "e7cf8414",
   "metadata": {},
   "outputs": [
    {
     "data": {
      "text/html": [
       "<div>\n",
       "<style scoped>\n",
       "    .dataframe tbody tr th:only-of-type {\n",
       "        vertical-align: middle;\n",
       "    }\n",
       "\n",
       "    .dataframe tbody tr th {\n",
       "        vertical-align: top;\n",
       "    }\n",
       "\n",
       "    .dataframe thead th {\n",
       "        text-align: right;\n",
       "    }\n",
       "</style>\n",
       "<table border=\"1\" class=\"dataframe\">\n",
       "  <thead>\n",
       "    <tr style=\"text-align: right;\">\n",
       "      <th></th>\n",
       "      <th>movieId</th>\n",
       "      <th>count</th>\n",
       "      <th>mean</th>\n",
       "      <th>bayesian_avg</th>\n",
       "      <th>title</th>\n",
       "    </tr>\n",
       "  </thead>\n",
       "  <tbody>\n",
       "    <tr>\n",
       "      <th>314</th>\n",
       "      <td>318</td>\n",
       "      <td>81482</td>\n",
       "      <td>4.413576</td>\n",
       "      <td>4.407</td>\n",
       "      <td>Shawshank Redemption, The (1994)</td>\n",
       "    </tr>\n",
       "    <tr>\n",
       "      <th>840</th>\n",
       "      <td>858</td>\n",
       "      <td>52498</td>\n",
       "      <td>4.324336</td>\n",
       "      <td>4.314</td>\n",
       "      <td>Godfather, The (1972)</td>\n",
       "    </tr>\n",
       "    <tr>\n",
       "      <th>49</th>\n",
       "      <td>50</td>\n",
       "      <td>55366</td>\n",
       "      <td>4.284353</td>\n",
       "      <td>4.275</td>\n",
       "      <td>Usual Suspects, The (1995)</td>\n",
       "    </tr>\n",
       "    <tr>\n",
       "      <th>1190</th>\n",
       "      <td>1221</td>\n",
       "      <td>34188</td>\n",
       "      <td>4.261759</td>\n",
       "      <td>4.247</td>\n",
       "      <td>Godfather: Part II, The (1974)</td>\n",
       "    </tr>\n",
       "    <tr>\n",
       "      <th>522</th>\n",
       "      <td>527</td>\n",
       "      <td>60411</td>\n",
       "      <td>4.247579</td>\n",
       "      <td>4.239</td>\n",
       "      <td>Schindler's List (1993)</td>\n",
       "    </tr>\n",
       "    <tr>\n",
       "      <th>...</th>\n",
       "      <td>...</td>\n",
       "      <td>...</td>\n",
       "      <td>...</td>\n",
       "      <td>...</td>\n",
       "      <td>...</td>\n",
       "    </tr>\n",
       "    <tr>\n",
       "      <th>9603</th>\n",
       "      <td>31698</td>\n",
       "      <td>633</td>\n",
       "      <td>1.232227</td>\n",
       "      <td>1.969</td>\n",
       "      <td>Son of the Mask (2005)</td>\n",
       "    </tr>\n",
       "    <tr>\n",
       "      <th>11349</th>\n",
       "      <td>50798</td>\n",
       "      <td>1180</td>\n",
       "      <td>1.457203</td>\n",
       "      <td>1.883</td>\n",
       "      <td>Epic Movie (2007)</td>\n",
       "    </tr>\n",
       "    <tr>\n",
       "      <th>6464</th>\n",
       "      <td>6587</td>\n",
       "      <td>758</td>\n",
       "      <td>1.214380</td>\n",
       "      <td>1.880</td>\n",
       "      <td>Gigli (2003)</td>\n",
       "    </tr>\n",
       "    <tr>\n",
       "      <th>4669</th>\n",
       "      <td>4775</td>\n",
       "      <td>669</td>\n",
       "      <td>1.125561</td>\n",
       "      <td>1.880</td>\n",
       "      <td>Glitter (2001)</td>\n",
       "    </tr>\n",
       "    <tr>\n",
       "      <th>3494</th>\n",
       "      <td>3593</td>\n",
       "      <td>4268</td>\n",
       "      <td>1.578374</td>\n",
       "      <td>1.713</td>\n",
       "      <td>Battlefield Earth (2000)</td>\n",
       "    </tr>\n",
       "  </tbody>\n",
       "</table>\n",
       "<p>59047 rows × 5 columns</p>\n",
       "</div>"
      ],
      "text/plain": [
       "       movieId  count      mean  bayesian_avg  \\\n",
       "314        318  81482  4.413576         4.407   \n",
       "840        858  52498  4.324336         4.314   \n",
       "49          50  55366  4.284353         4.275   \n",
       "1190      1221  34188  4.261759         4.247   \n",
       "522        527  60411  4.247579         4.239   \n",
       "...        ...    ...       ...           ...   \n",
       "9603     31698    633  1.232227         1.969   \n",
       "11349    50798   1180  1.457203         1.883   \n",
       "6464      6587    758  1.214380         1.880   \n",
       "4669      4775    669  1.125561         1.880   \n",
       "3494      3593   4268  1.578374         1.713   \n",
       "\n",
       "                                  title  \n",
       "314    Shawshank Redemption, The (1994)  \n",
       "840               Godfather, The (1972)  \n",
       "49           Usual Suspects, The (1995)  \n",
       "1190     Godfather: Part II, The (1974)  \n",
       "522             Schindler's List (1993)  \n",
       "...                                 ...  \n",
       "9603             Son of the Mask (2005)  \n",
       "11349                 Epic Movie (2007)  \n",
       "6464                       Gigli (2003)  \n",
       "4669                     Glitter (2001)  \n",
       "3494           Battlefield Earth (2000)  \n",
       "\n",
       "[59047 rows x 5 columns]"
      ]
     },
     "execution_count": 31,
     "metadata": {},
     "output_type": "execute_result"
    }
   ],
   "source": [
    "movie_stats = movie_stats.merge(movies[['movieId', 'title']])\n",
    "movie_stats.sort_values(by='bayesian_avg',ascending=False)\n",
    "# movie_stats.head()"
   ]
  },
  {
   "cell_type": "code",
   "execution_count": 34,
   "id": "2848e46c",
   "metadata": {},
   "outputs": [
    {
     "data": {
      "text/html": [
       "<div>\n",
       "<style scoped>\n",
       "    .dataframe tbody tr th:only-of-type {\n",
       "        vertical-align: middle;\n",
       "    }\n",
       "\n",
       "    .dataframe tbody tr th {\n",
       "        vertical-align: top;\n",
       "    }\n",
       "\n",
       "    .dataframe thead th {\n",
       "        text-align: right;\n",
       "    }\n",
       "</style>\n",
       "<table border=\"1\" class=\"dataframe\">\n",
       "  <thead>\n",
       "    <tr style=\"text-align: right;\">\n",
       "      <th></th>\n",
       "      <th>movieId</th>\n",
       "      <th>count</th>\n",
       "      <th>mean</th>\n",
       "      <th>bayesian_avg</th>\n",
       "      <th>title</th>\n",
       "    </tr>\n",
       "  </thead>\n",
       "  <tbody>\n",
       "    <tr>\n",
       "      <th>3494</th>\n",
       "      <td>3593</td>\n",
       "      <td>4268</td>\n",
       "      <td>1.578374</td>\n",
       "      <td>1.713</td>\n",
       "      <td>Battlefield Earth (2000)</td>\n",
       "    </tr>\n",
       "    <tr>\n",
       "      <th>6464</th>\n",
       "      <td>6587</td>\n",
       "      <td>758</td>\n",
       "      <td>1.214380</td>\n",
       "      <td>1.880</td>\n",
       "      <td>Gigli (2003)</td>\n",
       "    </tr>\n",
       "    <tr>\n",
       "      <th>4669</th>\n",
       "      <td>4775</td>\n",
       "      <td>669</td>\n",
       "      <td>1.125561</td>\n",
       "      <td>1.880</td>\n",
       "      <td>Glitter (2001)</td>\n",
       "    </tr>\n",
       "    <tr>\n",
       "      <th>11349</th>\n",
       "      <td>50798</td>\n",
       "      <td>1180</td>\n",
       "      <td>1.457203</td>\n",
       "      <td>1.883</td>\n",
       "      <td>Epic Movie (2007)</td>\n",
       "    </tr>\n",
       "    <tr>\n",
       "      <th>9603</th>\n",
       "      <td>31698</td>\n",
       "      <td>633</td>\n",
       "      <td>1.232227</td>\n",
       "      <td>1.969</td>\n",
       "      <td>Son of the Mask (2005)</td>\n",
       "    </tr>\n",
       "  </tbody>\n",
       "</table>\n",
       "</div>"
      ],
      "text/plain": [
       "       movieId  count      mean  bayesian_avg                     title\n",
       "3494      3593   4268  1.578374         1.713  Battlefield Earth (2000)\n",
       "6464      6587    758  1.214380         1.880              Gigli (2003)\n",
       "4669      4775    669  1.125561         1.880            Glitter (2001)\n",
       "11349    50798   1180  1.457203         1.883         Epic Movie (2007)\n",
       "9603     31698    633  1.232227         1.969    Son of the Mask (2005)"
      ]
     },
     "execution_count": 34,
     "metadata": {},
     "output_type": "execute_result"
    }
   ],
   "source": [
    "movie_stats.sort_values('bayesian_avg', ascending=True).head()"
   ]
  },
  {
   "cell_type": "code",
   "execution_count": 36,
   "id": "b067c62a",
   "metadata": {},
   "outputs": [
    {
     "data": {
      "text/html": [
       "<div>\n",
       "<style scoped>\n",
       "    .dataframe tbody tr th:only-of-type {\n",
       "        vertical-align: middle;\n",
       "    }\n",
       "\n",
       "    .dataframe tbody tr th {\n",
       "        vertical-align: top;\n",
       "    }\n",
       "\n",
       "    .dataframe thead th {\n",
       "        text-align: right;\n",
       "    }\n",
       "</style>\n",
       "<table border=\"1\" class=\"dataframe\">\n",
       "  <thead>\n",
       "    <tr style=\"text-align: right;\">\n",
       "      <th></th>\n",
       "      <th>movieId</th>\n",
       "      <th>title</th>\n",
       "      <th>genres</th>\n",
       "    </tr>\n",
       "  </thead>\n",
       "  <tbody>\n",
       "    <tr>\n",
       "      <th>0</th>\n",
       "      <td>1</td>\n",
       "      <td>Toy Story (1995)</td>\n",
       "      <td>[Adventure, Animation, Children, Comedy, Fantasy]</td>\n",
       "    </tr>\n",
       "    <tr>\n",
       "      <th>1</th>\n",
       "      <td>2</td>\n",
       "      <td>Jumanji (1995)</td>\n",
       "      <td>[Adventure, Children, Fantasy]</td>\n",
       "    </tr>\n",
       "    <tr>\n",
       "      <th>2</th>\n",
       "      <td>3</td>\n",
       "      <td>Grumpier Old Men (1995)</td>\n",
       "      <td>[Comedy, Romance]</td>\n",
       "    </tr>\n",
       "    <tr>\n",
       "      <th>3</th>\n",
       "      <td>4</td>\n",
       "      <td>Waiting to Exhale (1995)</td>\n",
       "      <td>[Comedy, Drama, Romance]</td>\n",
       "    </tr>\n",
       "    <tr>\n",
       "      <th>4</th>\n",
       "      <td>5</td>\n",
       "      <td>Father of the Bride Part II (1995)</td>\n",
       "      <td>[Comedy]</td>\n",
       "    </tr>\n",
       "  </tbody>\n",
       "</table>\n",
       "</div>"
      ],
      "text/plain": [
       "   movieId                               title  \\\n",
       "0        1                    Toy Story (1995)   \n",
       "1        2                      Jumanji (1995)   \n",
       "2        3             Grumpier Old Men (1995)   \n",
       "3        4            Waiting to Exhale (1995)   \n",
       "4        5  Father of the Bride Part II (1995)   \n",
       "\n",
       "                                              genres  \n",
       "0  [Adventure, Animation, Children, Comedy, Fantasy]  \n",
       "1                     [Adventure, Children, Fantasy]  \n",
       "2                                  [Comedy, Romance]  \n",
       "3                           [Comedy, Drama, Romance]  \n",
       "4                                           [Comedy]  "
      ]
     },
     "execution_count": 36,
     "metadata": {},
     "output_type": "execute_result"
    }
   ],
   "source": [
    "movies['genres'] = movies['genres'].apply(lambda x: x.split('|'))\n",
    "movies.head()"
   ]
  },
  {
   "cell_type": "code",
   "execution_count": 37,
   "id": "c0255773",
   "metadata": {},
   "outputs": [
    {
     "name": "stdout",
     "output_type": "stream",
     "text": [
      "There are 20 genres.\n"
     ]
    },
    {
     "data": {
      "text/plain": [
       "Counter({'Drama': 25606,\n",
       "         'Comedy': 16870,\n",
       "         'Thriller': 8654,\n",
       "         'Romance': 7719,\n",
       "         'Action': 7348,\n",
       "         'Horror': 5989,\n",
       "         'Documentary': 5605,\n",
       "         'Crime': 5319,\n",
       "         '(no genres listed)': 5062,\n",
       "         'Adventure': 4145,\n",
       "         'Sci-Fi': 3595,\n",
       "         'Children': 2935,\n",
       "         'Animation': 2929,\n",
       "         'Mystery': 2925,\n",
       "         'Fantasy': 2731,\n",
       "         'War': 1874,\n",
       "         'Western': 1399,\n",
       "         'Musical': 1054,\n",
       "         'Film-Noir': 353,\n",
       "         'IMAX': 195})"
      ]
     },
     "execution_count": 37,
     "metadata": {},
     "output_type": "execute_result"
    }
   ],
   "source": [
    "from collections import Counter\n",
    "\n",
    "genre_frequency = Counter(g for genres in movies['genres'] for g in genres)\n",
    "\n",
    "print(f\"There are {len(genre_frequency)} genres.\")\n",
    "\n",
    "genre_frequency"
   ]
  },
  {
   "cell_type": "code",
   "execution_count": 38,
   "id": "ef3216f5",
   "metadata": {},
   "outputs": [
    {
     "name": "stdout",
     "output_type": "stream",
     "text": [
      "The 5 most common genres: \n",
      " [('Drama', 25606), ('Comedy', 16870), ('Thriller', 8654), ('Romance', 7719), ('Action', 7348)]\n"
     ]
    }
   ],
   "source": [
    "print(\"The 5 most common genres: \\n\", genre_frequency.most_common(5))"
   ]
  },
  {
   "cell_type": "code",
   "execution_count": 55,
   "id": "6e07dd3f",
   "metadata": {},
   "outputs": [
    {
     "data": {
      "text/plain": [
       "(array([ 0,  1,  2,  3,  4,  5,  6,  7,  8,  9, 10, 11, 12, 13, 14, 15, 16,\n",
       "        17, 18, 19]),\n",
       " [Text(0, 0, 'Drama'),\n",
       "  Text(1, 0, 'Comedy'),\n",
       "  Text(2, 0, 'Thriller'),\n",
       "  Text(3, 0, 'Romance'),\n",
       "  Text(4, 0, 'Action'),\n",
       "  Text(5, 0, 'Horror'),\n",
       "  Text(6, 0, 'Documentary'),\n",
       "  Text(7, 0, 'Crime'),\n",
       "  Text(8, 0, '(no genres listed)'),\n",
       "  Text(9, 0, 'Adventure'),\n",
       "  Text(10, 0, 'Sci-Fi'),\n",
       "  Text(11, 0, 'Children'),\n",
       "  Text(12, 0, 'Animation'),\n",
       "  Text(13, 0, 'Mystery'),\n",
       "  Text(14, 0, 'Fantasy'),\n",
       "  Text(15, 0, 'War'),\n",
       "  Text(16, 0, 'Western'),\n",
       "  Text(17, 0, 'Musical'),\n",
       "  Text(18, 0, 'Film-Noir'),\n",
       "  Text(19, 0, 'IMAX')])"
      ]
     },
     "execution_count": 55,
     "metadata": {},
     "output_type": "execute_result"
    },
    {
     "data": {
      "image/png": "[encoded data removed]",
      "text/plain": [
       "<Figure size 640x480 with 1 Axes>"
      ]
     },
     "metadata": {},
     "output_type": "display_data"
    }
   ],
   "source": [
    "# genre_frequency_df = pd.DataFrame([genre_frequency]).T.reset_index()\n",
    "genre_frequency_df.columns = ['genre', 'count']\n",
    "# genre_frequency_df.head()\n",
    "\n",
    "sns.barplot(x='genre',y='count',data = genre_frequency_df.sort_values(by='count',ascending = False))\n",
    "plt.xticks(rotation=90)"
   ]
  },
  {
   "cell_type": "markdown",
   "id": "068cdb1f",
   "metadata": {},
   "source": [
    "## Data Pre - Processing"
   ]
  },
  {
   "cell_type": "code",
   "execution_count": 56,
   "id": "b6ce6944",
   "metadata": {},
   "outputs": [],
   "source": [
    "from scipy.sparse import csr_matrix\n",
    "\n",
    "def create_X(df):\n",
    "    \"\"\"\n",
    "    Generates a sparse matrix from ratings dataframe.\n",
    "    \n",
    "    Args:\n",
    "        df: pandas dataframe containing 3 columns (userId, movieId, rating)\n",
    "    \n",
    "    Returns:\n",
    "        X: sparse matrix\n",
    "        user_mapper: dict that maps user id's to user indices\n",
    "        user_inv_mapper: dict that maps user indices to user id's\n",
    "        movie_mapper: dict that maps movie id's to movie indices\n",
    "        movie_inv_mapper: dict that maps movie indices to movie id's\n",
    "    \"\"\"\n",
    "    M = df['userId'].nunique()\n",
    "    N = df['movieId'].nunique()\n",
    "\n",
    "    user_mapper = dict(zip(np.unique(df[\"userId\"]), list(range(M))))\n",
    "    movie_mapper = dict(zip(np.unique(df[\"movieId\"]), list(range(N))))\n",
    "    \n",
    "    user_inv_mapper = dict(zip(list(range(M)), np.unique(df[\"userId\"])))\n",
    "    movie_inv_mapper = dict(zip(list(range(N)), np.unique(df[\"movieId\"])))\n",
    "    \n",
    "    user_index = [user_mapper[i] for i in df['userId']]\n",
    "    item_index = [movie_mapper[i] for i in df['movieId']]\n",
    "\n",
    "    X = csr_matrix((df[\"rating\"], (user_index,item_index)), shape=(M,N))\n",
    "    \n",
    "    return X, user_mapper, movie_mapper, user_inv_mapper, movie_inv_mapper\n",
    "\n",
    "X, user_mapper, movie_mapper, user_inv_mapper, movie_inv_mapper = create_X(ratings)"
   ]
  },
  {
   "cell_type": "code",
   "execution_count": 57,
   "id": "ddd7062a",
   "metadata": {},
   "outputs": [
    {
     "data": {
      "text/plain": [
       "(162541, 59047)"
      ]
     },
     "execution_count": 57,
     "metadata": {},
     "output_type": "execute_result"
    }
   ],
   "source": [
    "X.shape"
   ]
  },
  {
   "cell_type": "markdown",
   "id": "f7a1312f",
   "metadata": {},
   "source": [
    "## Evaluating Sparcity"
   ]
  },
  {
   "cell_type": "code",
   "execution_count": 59,
   "id": "328b2fa0",
   "metadata": {},
   "outputs": [
    {
     "name": "stdout",
     "output_type": "stream",
     "text": [
      "Matrix sparsity: 0.26%\n"
     ]
    }
   ],
   "source": [
    "n_total = X.shape[0]*X.shape[1]\n",
    "n_ratings = X.nnz\n",
    "sparsity = n_ratings/n_total\n",
    "print(f\"Matrix sparsity: {round(sparsity*100,2)}%\")"
   ]
  },
  {
   "cell_type": "code",
   "execution_count": 60,
   "id": "b0c2c684",
   "metadata": {},
   "outputs": [
    {
     "data": {
      "text/plain": [
       "162541"
      ]
     },
     "execution_count": 60,
     "metadata": {},
     "output_type": "execute_result"
    }
   ],
   "source": [
    "n_ratings_per_user = X.getnnz(axis=1)\n",
    "len(n_ratings_per_user)"
   ]
  },
  {
   "cell_type": "code",
   "execution_count": 61,
   "id": "0a7b9b1b",
   "metadata": {},
   "outputs": [
    {
     "name": "stdout",
     "output_type": "stream",
     "text": [
      "Most active user rated 32202 movies.\n",
      "Least active user rated 20 movies.\n"
     ]
    }
   ],
   "source": [
    "print(f\"Most active user rated {n_ratings_per_user.max()} movies.\")\n",
    "print(f\"Least active user rated {n_ratings_per_user.min()} movies.\")"
   ]
  },
  {
   "cell_type": "code",
   "execution_count": 62,
   "id": "b54fed99",
   "metadata": {},
   "outputs": [
    {
     "data": {
      "text/plain": [
       "59047"
      ]
     },
     "execution_count": 62,
     "metadata": {},
     "output_type": "execute_result"
    }
   ],
   "source": [
    "n_ratings_per_movie = X.getnnz(axis=0)\n",
    "len(n_ratings_per_movie)"
   ]
  },
  {
   "cell_type": "code",
   "execution_count": 63,
   "id": "d25acd16",
   "metadata": {},
   "outputs": [
    {
     "name": "stdout",
     "output_type": "stream",
     "text": [
      "Most rated movie has 81491 ratings.\n",
      "Least rated movie has 1 ratings.\n"
     ]
    }
   ],
   "source": [
    "print(f\"Most rated movie has {n_ratings_per_movie.max()} ratings.\")\n",
    "print(f\"Least rated movie has {n_ratings_per_movie.min()} ratings.\")"
   ]
  },
  {
   "cell_type": "code",
   "execution_count": 65,
   "id": "ed9d3103",
   "metadata": {},
   "outputs": [
    {
     "data": {
      "image/png": "[encoded data removed]",
      "text/plain": [
       "<Figure size 1600x400 with 2 Axes>"
      ]
     },
     "metadata": {},
     "output_type": "display_data"
    }
   ],
   "source": [
    "plt.figure(figsize=(16,4))\n",
    "plt.subplot(1,2,1)\n",
    "sns.kdeplot(n_ratings_per_user, fill=True)\n",
    "plt.xlim(0)\n",
    "plt.title(\"Number of Ratings Per User\", fontsize=14)\n",
    "plt.xlabel(\"number of ratings per user\")\n",
    "plt.ylabel(\"density\")\n",
    "plt.subplot(1,2,2)\n",
    "sns.kdeplot(n_ratings_per_movie, fill=True)\n",
    "plt.xlim(0)\n",
    "plt.title(\"Number of Ratings Per Movie\", fontsize=14)\n",
    "plt.xlabel(\"number of ratings per movie\")\n",
    "plt.ylabel(\"density\")\n",
    "plt.show()"
   ]
  },
  {
   "cell_type": "markdown",
   "id": "ea1f8f09",
   "metadata": {},
   "source": [
    "## itme-item recommendations with knn"
   ]
  },
  {
   "cell_type": "code",
   "execution_count": 66,
   "id": "02bf22af",
   "metadata": {},
   "outputs": [],
   "source": [
    "from sklearn.neighbors import NearestNeighbors\n",
    "\n",
    "def find_similar_movies(movie_id, X, movie_mapper, movie_inv_mapper, k, metric='cosine'):\n",
    "    \"\"\"\n",
    "    Finds k-nearest neighbours for a given movie id.\n",
    "    \n",
    "    Args:\n",
    "        movie_id: id of the movie of interest\n",
    "        X: user-item utility matrix\n",
    "        k: number of similar movies to retrieve\n",
    "        metric: distance metric for kNN calculations\n",
    "    \n",
    "    Output: returns list of k similar movie ID's\n",
    "    \"\"\"\n",
    "    X = X.T\n",
    "    neighbour_ids = []\n",
    "    \n",
    "    movie_ind = movie_mapper[movie_id]\n",
    "    movie_vec = X[movie_ind]\n",
    "    if isinstance(movie_vec, (np.ndarray)):\n",
    "        movie_vec = movie_vec.reshape(1,-1)\n",
    "    # use k+1 since kNN output includes the movieId of interest\n",
    "    kNN = NearestNeighbors(n_neighbors = k+1, algorithm=\"brute\", metric=metric)\n",
    "    kNN.fit(X)\n",
    "    neighbour = kNN.kneighbors(movie_vec, return_distance=False)\n",
    "    for i in range(0,k):\n",
    "        n = neighbour.item(i)\n",
    "        neighbour_ids.append(movie_inv_mapper[n])\n",
    "    neighbour_ids.pop(0)\n",
    "    return neighbour_ids"
   ]
  },
  {
   "cell_type": "code",
   "execution_count": 67,
   "id": "890802bf",
   "metadata": {},
   "outputs": [
    {
     "data": {
      "text/plain": [
       "[260, 3114, 1270, 356, 480, 1210, 780, 364, 588]"
      ]
     },
     "execution_count": 67,
     "metadata": {},
     "output_type": "execute_result"
    }
   ],
   "source": [
    "similar_movies = find_similar_movies(1, X, movie_mapper, movie_inv_mapper, k=10)\n",
    "similar_movies"
   ]
  },
  {
   "cell_type": "code",
   "execution_count": 69,
   "id": "f60ada88",
   "metadata": {},
   "outputs": [
    {
     "name": "stdout",
     "output_type": "stream",
     "text": [
      "Because you watched Toy Story (1995):\n",
      "Star Wars: Episode IV - A New Hope (1977)\n",
      "Toy Story 2 (1999)\n",
      "Back to the Future (1985)\n",
      "Forrest Gump (1994)\n",
      "Jurassic Park (1993)\n",
      "Star Wars: Episode VI - Return of the Jedi (1983)\n",
      "Independence Day (a.k.a. ID4) (1996)\n",
      "Lion King, The (1994)\n",
      "Aladdin (1992)\n"
     ]
    }
   ],
   "source": [
    "movie_titles = dict(zip(movies['movieId'], movies['title']))\n",
    "# movie_titles\n",
    "movie_id = 1\n",
    "\n",
    "similar_movies = find_similar_movies(movie_id, X, movie_mapper, movie_inv_mapper, metric='cosine', k=10)\n",
    "movie_title = movie_titles[movie_id]\n",
    "\n",
    "print(f\"Because you watched {movie_title}:\")\n",
    "for i in similar_movies:\n",
    "    print(movie_titles[i])"
   ]
  },
  {
   "cell_type": "markdown",
   "id": "1a18f64f",
   "metadata": {},
   "source": [
    "## Handling the cold-start problem"
   ]
  },
  {
   "cell_type": "code",
   "execution_count": 70,
   "id": "5068628e",
   "metadata": {},
   "outputs": [
    {
     "name": "stdout",
     "output_type": "stream",
     "text": [
      "There are 62423 unique movies in our movies dataset.\n"
     ]
    }
   ],
   "source": [
    "n_movies = movies['movieId'].nunique()\n",
    "print(f\"There are {n_movies} unique movies in our movies dataset.\")"
   ]
  },
  {
   "cell_type": "code",
   "execution_count": 79,
   "id": "83137f82",
   "metadata": {},
   "outputs": [
    {
     "data": {
      "text/html": [
       "<div>\n",
       "<style scoped>\n",
       "    .dataframe tbody tr th:only-of-type {\n",
       "        vertical-align: middle;\n",
       "    }\n",
       "\n",
       "    .dataframe tbody tr th {\n",
       "        vertical-align: top;\n",
       "    }\n",
       "\n",
       "    .dataframe thead th {\n",
       "        text-align: right;\n",
       "    }\n",
       "</style>\n",
       "<table border=\"1\" class=\"dataframe\">\n",
       "  <thead>\n",
       "    <tr style=\"text-align: right;\">\n",
       "      <th></th>\n",
       "      <th>War</th>\n",
       "      <th>Animation</th>\n",
       "      <th>Romance</th>\n",
       "      <th>(no genres listed)</th>\n",
       "      <th>Comedy</th>\n",
       "      <th>Mystery</th>\n",
       "      <th>Musical</th>\n",
       "      <th>Thriller</th>\n",
       "      <th>Western</th>\n",
       "      <th>Documentary</th>\n",
       "      <th>Fantasy</th>\n",
       "      <th>Drama</th>\n",
       "      <th>Horror</th>\n",
       "      <th>Adventure</th>\n",
       "      <th>Children</th>\n",
       "      <th>Sci-Fi</th>\n",
       "      <th>Crime</th>\n",
       "      <th>Film-Noir</th>\n",
       "      <th>IMAX</th>\n",
       "      <th>Action</th>\n",
       "    </tr>\n",
       "  </thead>\n",
       "  <tbody>\n",
       "    <tr>\n",
       "      <th>0</th>\n",
       "      <td>0</td>\n",
       "      <td>1</td>\n",
       "      <td>0</td>\n",
       "      <td>0</td>\n",
       "      <td>1</td>\n",
       "      <td>0</td>\n",
       "      <td>0</td>\n",
       "      <td>0</td>\n",
       "      <td>0</td>\n",
       "      <td>0</td>\n",
       "      <td>1</td>\n",
       "      <td>0</td>\n",
       "      <td>0</td>\n",
       "      <td>1</td>\n",
       "      <td>1</td>\n",
       "      <td>0</td>\n",
       "      <td>0</td>\n",
       "      <td>0</td>\n",
       "      <td>0</td>\n",
       "      <td>0</td>\n",
       "    </tr>\n",
       "    <tr>\n",
       "      <th>1</th>\n",
       "      <td>0</td>\n",
       "      <td>0</td>\n",
       "      <td>0</td>\n",
       "      <td>0</td>\n",
       "      <td>0</td>\n",
       "      <td>0</td>\n",
       "      <td>0</td>\n",
       "      <td>0</td>\n",
       "      <td>0</td>\n",
       "      <td>0</td>\n",
       "      <td>1</td>\n",
       "      <td>0</td>\n",
       "      <td>0</td>\n",
       "      <td>1</td>\n",
       "      <td>1</td>\n",
       "      <td>0</td>\n",
       "      <td>0</td>\n",
       "      <td>0</td>\n",
       "      <td>0</td>\n",
       "      <td>0</td>\n",
       "    </tr>\n",
       "    <tr>\n",
       "      <th>2</th>\n",
       "      <td>0</td>\n",
       "      <td>0</td>\n",
       "      <td>1</td>\n",
       "      <td>0</td>\n",
       "      <td>1</td>\n",
       "      <td>0</td>\n",
       "      <td>0</td>\n",
       "      <td>0</td>\n",
       "      <td>0</td>\n",
       "      <td>0</td>\n",
       "      <td>0</td>\n",
       "      <td>0</td>\n",
       "      <td>0</td>\n",
       "      <td>0</td>\n",
       "      <td>0</td>\n",
       "      <td>0</td>\n",
       "      <td>0</td>\n",
       "      <td>0</td>\n",
       "      <td>0</td>\n",
       "      <td>0</td>\n",
       "    </tr>\n",
       "    <tr>\n",
       "      <th>3</th>\n",
       "      <td>0</td>\n",
       "      <td>0</td>\n",
       "      <td>1</td>\n",
       "      <td>0</td>\n",
       "      <td>1</td>\n",
       "      <td>0</td>\n",
       "      <td>0</td>\n",
       "      <td>0</td>\n",
       "      <td>0</td>\n",
       "      <td>0</td>\n",
       "      <td>0</td>\n",
       "      <td>1</td>\n",
       "      <td>0</td>\n",
       "      <td>0</td>\n",
       "      <td>0</td>\n",
       "      <td>0</td>\n",
       "      <td>0</td>\n",
       "      <td>0</td>\n",
       "      <td>0</td>\n",
       "      <td>0</td>\n",
       "    </tr>\n",
       "    <tr>\n",
       "      <th>4</th>\n",
       "      <td>0</td>\n",
       "      <td>0</td>\n",
       "      <td>0</td>\n",
       "      <td>0</td>\n",
       "      <td>1</td>\n",
       "      <td>0</td>\n",
       "      <td>0</td>\n",
       "      <td>0</td>\n",
       "      <td>0</td>\n",
       "      <td>0</td>\n",
       "      <td>0</td>\n",
       "      <td>0</td>\n",
       "      <td>0</td>\n",
       "      <td>0</td>\n",
       "      <td>0</td>\n",
       "      <td>0</td>\n",
       "      <td>0</td>\n",
       "      <td>0</td>\n",
       "      <td>0</td>\n",
       "      <td>0</td>\n",
       "    </tr>\n",
       "  </tbody>\n",
       "</table>\n",
       "</div>"
      ],
      "text/plain": [
       "   War  Animation  Romance  (no genres listed)  Comedy  Mystery  Musical  \\\n",
       "0    0          1        0                   0       1        0        0   \n",
       "1    0          0        0                   0       0        0        0   \n",
       "2    0          0        1                   0       1        0        0   \n",
       "3    0          0        1                   0       1        0        0   \n",
       "4    0          0        0                   0       1        0        0   \n",
       "\n",
       "   Thriller  Western  Documentary  Fantasy  Drama  Horror  Adventure  \\\n",
       "0         0        0            0        1      0       0          1   \n",
       "1         0        0            0        1      0       0          1   \n",
       "2         0        0            0        0      0       0          0   \n",
       "3         0        0            0        0      1       0          0   \n",
       "4         0        0            0        0      0       0          0   \n",
       "\n",
       "   Children  Sci-Fi  Crime  Film-Noir  IMAX  Action  \n",
       "0         1       0      0          0     0       0  \n",
       "1         1       0      0          0     0       0  \n",
       "2         0       0      0          0     0       0  \n",
       "3         0       0      0          0     0       0  \n",
       "4         0       0      0          0     0       0  "
      ]
     },
     "execution_count": 79,
     "metadata": {},
     "output_type": "execute_result"
    }
   ],
   "source": [
    "genres = set(g for G in movies['genres'] for g in G)\n",
    "# genres\n",
    "for g in genres:\n",
    "    movies[g] = movies.genres.transform(lambda x: int(g in x))\n",
    "    \n",
    "movie_genres = movies.drop(columns=['movieId', 'title','genres'])\n",
    "# movies\n",
    "movie_genres.head()"
   ]
  },
  {
   "cell_type": "code",
   "execution_count": 104,
   "id": "cdf72842",
   "metadata": {},
   "outputs": [
    {
     "name": "stdout",
     "output_type": "stream",
     "text": [
      "Dimensions of our genres cosine similarity matrix: (63000, 1000)\n"
     ]
    }
   ],
   "source": [
    "import numpy as np\n",
    "from sklearn.metrics.pairwise import cosine_similarity\n",
    "from scipy.sparse import csr_matrix\n",
    "\n",
    "def compute_cosine_similarity_in_batches(data, batch_size=1000):\n",
    "    num_samples, num_features = data.shape\n",
    "    num_batches = (num_samples + batch_size - 1) // batch_size\n",
    "    \n",
    "    cosine_similarities = []\n",
    "    for i in range(num_batches):\n",
    "        start_idx = i * batch_size\n",
    "        end_idx = min((i + 1) * batch_size, num_samples)\n",
    "        batch_data = data[start_idx:end_idx]\n",
    "        \n",
    "        # Pad the last batch with zeros if necessary\n",
    "        if batch_data.shape[0] < batch_size:\n",
    "            padding_size = batch_size - batch_data.shape[0]\n",
    "            batch_data = np.pad(batch_data, ((0, padding_size), (0, 0)), mode='constant')\n",
    "        \n",
    "        # Convert batch data to sparse matrix\n",
    "        sparse_batch_data = csr_matrix(batch_data)\n",
    "        \n",
    "        # Compute cosine similarity for the batch\n",
    "        batch_cosine_sim = cosine_similarity(sparse_batch_data, sparse_batch_data)\n",
    "        cosine_similarities.append(batch_cosine_sim)\n",
    "    \n",
    "    # Combine cosine similarities from all batches\n",
    "    cosine_sim_matrix = np.vstack(cosine_similarities)\n",
    "    return cosine_sim_matrix\n",
    "\n",
    "# Example usage:\n",
    "# Assuming movie_genres contains your data\n",
    "# Modify the batch size according to your system's memory capacity\n",
    "batch_size = 1000\n",
    "cosine_sim_matrix = compute_cosine_similarity_in_batches(movie_genres, batch_size)\n",
    "\n",
    "print(f\"Dimensions of our genres cosine similarity matrix: {cosine_sim_matrix.shape}\")\n"
   ]
  },
  {
   "cell_type": "code",
   "execution_count": 105,
   "id": "adbfe13c",
   "metadata": {},
   "outputs": [
    {
     "data": {
      "text/plain": [
       "array([1.        , 0.77459667, 0.31622777, 0.25819889, 0.4472136 ,\n",
       "       0.        , 0.31622777, 0.63245553, 0.        , 0.25819889,\n",
       "       0.25819889, 0.31622777, 0.77459667, 0.        , 0.25819889,\n",
       "       0.        , 0.        , 0.4472136 , 0.4472136 , 0.2       ,\n",
       "       0.25819889, 0.        , 0.        , 0.        , 0.        ,\n",
       "       0.        , 0.31622777, 0.        , 0.4       , 0.        ,\n",
       "       0.        , 0.        , 0.25819889, 0.31622777, 0.        ,\n",
       "       0.        , 0.        , 0.63245553, 0.31622777, 0.        ,\n",
       "       0.        , 0.        , 0.        , 0.51639778, 0.25819889,\n",
       "       0.        , 0.        , 0.4       , 0.        , 0.        ,\n",
       "       0.        , 0.25819889, 0.31622777, 0.63245553, 0.        ,\n",
       "       0.89442719, 0.        , 0.25819889, 0.        , 0.77459667,\n",
       "       0.        , 0.        , 0.31622777, 0.31622777, 0.4472136 ,\n",
       "       0.        , 0.        , 0.31622777, 0.4472136 , 0.2236068 ,\n",
       "       0.        , 0.31622777, 0.        , 0.        , 0.31622777,\n",
       "       0.        , 0.        , 0.        , 0.        , 0.31622777,\n",
       "       0.        , 0.31622777, 0.        , 0.31622777, 0.        ,\n",
       "       0.25819889, 0.63245553, 0.4472136 , 0.        , 0.        ,\n",
       "       0.        , 0.25819889, 0.25819889, 0.25819889, 0.31622777,\n",
       "       0.        , 0.        , 0.        , 0.        , 0.4472136 ,\n",
       "       0.4472136 , 0.        , 0.4472136 , 0.        , 0.31622777,\n",
       "       0.67082039, 0.        , 0.25819889, 0.        , 0.        ,\n",
       "       0.4472136 , 0.        , 0.        , 0.4472136 , 0.        ,\n",
       "       0.        , 0.31622777, 0.4472136 , 0.51639778, 0.        ,\n",
       "       0.31622777, 0.        , 0.        , 0.4472136 , 0.77459667,\n",
       "       0.        , 0.        , 0.31622777, 0.        , 0.        ,\n",
       "       0.        , 0.31622777, 0.        , 0.4472136 , 0.        ,\n",
       "       0.        , 0.        , 0.        , 0.        , 0.4472136 ,\n",
       "       0.        , 0.        , 0.4472136 , 0.2       , 0.63245553,\n",
       "       0.        , 0.        , 0.        , 0.25819889, 0.        ,\n",
       "       0.        , 0.4472136 , 0.        , 0.25819889, 0.31622777,\n",
       "       0.31622777, 0.63245553, 0.        , 0.2236068 , 0.        ,\n",
       "       0.        , 0.        , 0.        , 0.        , 0.25819889,\n",
       "       0.        , 0.        , 0.51639778, 0.2236068 , 0.31622777,\n",
       "       0.        , 0.        , 0.4472136 , 0.        , 0.4472136 ,\n",
       "       0.        , 0.31622777, 0.        , 0.31622777, 0.31622777,\n",
       "       0.        , 0.25819889, 0.        , 0.        , 0.31622777,\n",
       "       0.4472136 , 0.25819889, 0.63245553, 0.        , 0.        ,\n",
       "       0.        , 0.        , 0.31622777, 0.25819889, 0.        ,\n",
       "       0.        , 0.        , 0.        , 0.        , 0.31622777,\n",
       "       0.        , 0.4472136 , 0.        , 0.31622777, 0.        ,\n",
       "       0.        , 0.25819889, 0.        , 0.        , 0.        ,\n",
       "       0.4472136 , 0.        , 0.        , 0.        , 0.4472136 ,\n",
       "       0.        , 0.31622777, 0.        , 0.        , 0.        ,\n",
       "       0.4472136 , 0.25819889, 0.        , 0.        , 0.        ,\n",
       "       0.4472136 , 0.        , 0.        , 0.63245553, 0.25819889,\n",
       "       0.        , 0.4472136 , 0.31622777, 0.25819889, 0.31622777,\n",
       "       0.63245553, 0.67082039, 0.        , 0.31622777, 0.        ,\n",
       "       0.77459667, 0.63245553, 0.        , 0.        , 0.        ,\n",
       "       0.4472136 , 0.        , 0.63245553, 0.        , 0.31622777,\n",
       "       0.        , 0.        , 0.4472136 , 0.31622777, 0.        ,\n",
       "       0.8       , 0.        , 0.25819889, 0.        , 0.31622777,\n",
       "       0.        , 0.        , 0.25819889, 0.        , 0.4472136 ,\n",
       "       0.        , 0.        , 0.        , 0.        , 0.31622777,\n",
       "       0.        , 0.4472136 , 0.4472136 , 0.31622777, 0.        ,\n",
       "       0.4472136 , 0.        , 0.        , 0.25819889, 0.        ,\n",
       "       0.        , 0.        , 0.        , 0.        , 0.31622777,\n",
       "       0.        , 0.31622777, 0.        , 0.        , 0.        ,\n",
       "       0.31622777, 0.31622777, 0.2236068 , 0.        , 0.        ,\n",
       "       0.        , 0.        , 0.        , 0.        , 0.        ,\n",
       "       0.31622777, 0.4472136 , 0.        , 0.        , 0.31622777,\n",
       "       0.        , 0.4472136 , 0.        , 0.4472136 , 0.63245553,\n",
       "       0.4472136 , 0.        , 0.25819889, 0.51639778, 0.        ,\n",
       "       0.25819889, 0.        , 0.        , 0.31622777, 0.31622777,\n",
       "       0.4472136 , 0.        , 0.25819889, 0.        , 0.25819889,\n",
       "       0.        , 0.        , 0.        , 0.4472136 , 0.        ,\n",
       "       0.        , 0.        , 0.        , 0.        , 0.31622777,\n",
       "       0.25819889, 0.        , 0.4472136 , 0.4472136 , 0.4472136 ,\n",
       "       0.31622777, 0.        , 0.        , 0.4472136 , 0.        ,\n",
       "       0.        , 0.25819889, 0.31622777, 0.2236068 , 0.        ,\n",
       "       0.77459667, 0.2236068 , 0.31622777, 0.        , 0.25819889,\n",
       "       0.31622777, 0.25819889, 0.51639778, 0.        , 0.54772256,\n",
       "       0.        , 0.        , 0.4472136 , 0.51639778, 0.        ,\n",
       "       0.31622777, 0.31622777, 0.25819889, 0.        , 0.63245553,\n",
       "       0.        , 0.        , 0.        , 0.31622777, 0.        ,\n",
       "       0.4       , 0.        , 0.        , 0.        , 0.        ,\n",
       "       0.        , 0.        , 0.31622777, 0.        , 0.        ,\n",
       "       0.        , 0.        , 0.63245553, 0.51639778, 0.4472136 ,\n",
       "       0.25819889, 0.        , 0.        , 0.        , 0.        ,\n",
       "       0.        , 0.        , 0.4472136 , 0.25819889, 0.        ,\n",
       "       0.31622777, 0.        , 0.        , 0.        , 0.        ,\n",
       "       0.77459667, 0.31622777, 0.        , 0.4472136 , 0.4472136 ,\n",
       "       0.31622777, 0.        , 0.31622777, 0.        , 0.4472136 ,\n",
       "       0.2236068 , 0.51639778, 0.        , 0.        , 0.        ,\n",
       "       0.        , 0.        , 0.        , 0.        , 0.4472136 ,\n",
       "       0.31622777, 0.        , 0.51639778, 0.4472136 , 0.25819889,\n",
       "       0.31622777, 0.        , 0.4472136 , 0.25819889, 0.        ,\n",
       "       0.31622777, 0.4472136 , 0.25819889, 0.31622777, 0.31622777,\n",
       "       0.4472136 , 0.        , 0.31622777, 0.        , 0.4472136 ,\n",
       "       0.31622777, 0.        , 0.        , 0.31622777, 0.        ,\n",
       "       0.51639778, 0.        , 0.        , 0.        , 0.18257419,\n",
       "       0.4472136 , 0.        , 0.31622777, 0.        , 0.2236068 ,\n",
       "       0.        , 0.25819889, 0.4472136 , 0.31622777, 0.        ,\n",
       "       0.4472136 , 0.4472136 , 0.31622777, 0.31622777, 0.        ,\n",
       "       0.        , 0.31622777, 0.        , 0.25819889, 0.        ,\n",
       "       0.2236068 , 0.        , 0.        , 0.        , 0.63245553,\n",
       "       0.67082039, 0.4472136 , 0.31622777, 0.        , 0.4472136 ,\n",
       "       0.        , 0.        , 0.31622777, 0.        , 0.25819889,\n",
       "       0.        , 0.2236068 , 0.31622777, 0.        , 0.31622777,\n",
       "       0.31622777, 0.        , 0.25819889, 0.        , 0.        ,\n",
       "       0.4472136 , 0.25819889, 0.        , 0.        , 0.        ,\n",
       "       0.        , 0.        , 0.        , 0.25819889, 0.4472136 ,\n",
       "       0.        , 0.31622777, 0.        , 0.4472136 , 0.        ,\n",
       "       0.4472136 , 0.        , 0.        , 0.        , 0.        ,\n",
       "       0.        , 0.        , 0.        , 0.31622777, 0.        ,\n",
       "       0.        , 0.31622777, 0.25819889, 0.4472136 , 0.        ,\n",
       "       0.        , 0.        , 0.        , 0.        , 0.25819889,\n",
       "       0.        , 0.        , 0.25819889, 0.25819889, 0.        ,\n",
       "       0.73029674, 0.25819889, 0.        , 0.        , 0.31622777,\n",
       "       0.67082039, 0.4472136 , 0.        , 0.        , 0.        ,\n",
       "       0.        , 0.8       , 0.4472136 , 0.        , 0.        ,\n",
       "       0.31622777, 0.        , 0.4472136 , 0.        , 0.31622777,\n",
       "       0.31622777, 0.31622777, 0.31622777, 0.31622777, 0.        ,\n",
       "       0.        , 0.        , 0.31622777, 0.63245553, 0.4472136 ,\n",
       "       0.51639778, 0.        , 0.        , 0.        , 0.31622777,\n",
       "       0.31622777, 0.        , 0.4472136 , 0.63245553, 0.4       ,\n",
       "       0.8       , 0.        , 0.25819889, 0.        , 0.        ,\n",
       "       0.        , 0.6       , 0.54772256, 0.67082039, 0.31622777,\n",
       "       0.63245553, 0.31622777, 0.25819889, 0.        , 0.        ,\n",
       "       0.4472136 , 0.        , 0.        , 0.31622777, 0.        ,\n",
       "       0.2236068 , 0.63245553, 0.4       , 0.        , 0.4472136 ,\n",
       "       0.        , 0.        , 0.31622777, 0.63245553, 0.31622777,\n",
       "       0.31622777, 0.4472136 , 0.        , 0.        , 0.        ,\n",
       "       0.        , 0.4472136 , 0.        , 0.        , 0.        ,\n",
       "       0.        , 0.73029674, 0.        , 0.4472136 , 0.4472136 ,\n",
       "       0.31622777, 0.        , 0.4472136 , 0.        , 0.31622777,\n",
       "       0.        , 0.77459667, 0.        , 0.4472136 , 0.4472136 ,\n",
       "       0.        , 0.        , 0.2236068 , 0.31622777, 0.        ,\n",
       "       0.4472136 , 0.        , 0.51639778, 0.        , 0.4472136 ,\n",
       "       0.4472136 , 0.31622777, 0.        , 0.        , 0.        ,\n",
       "       0.8       , 0.        , 0.4472136 , 0.4472136 , 0.25819889,\n",
       "       0.        , 0.        , 0.        , 0.        , 0.31622777,\n",
       "       0.        , 0.91287093, 0.51639778, 0.        , 0.25819889,\n",
       "       0.        , 0.        , 0.        , 0.        , 0.        ,\n",
       "       0.        , 0.        , 0.        , 0.        , 0.4472136 ,\n",
       "       0.        , 0.31622777, 0.        , 0.        , 0.        ,\n",
       "       0.        , 0.        , 0.        , 0.        , 0.        ,\n",
       "       0.4472136 , 0.        , 0.        , 0.        , 0.31622777,\n",
       "       0.4472136 , 0.        , 0.        , 0.31622777, 0.8       ,\n",
       "       0.4472136 , 0.63245553, 0.        , 0.        , 0.        ,\n",
       "       0.        , 0.        , 0.4472136 , 0.51639778, 0.4472136 ,\n",
       "       0.77459667, 0.        , 0.        , 0.        , 0.2236068 ,\n",
       "       0.4472136 , 0.        , 0.        , 0.4472136 , 0.        ,\n",
       "       0.        , 0.        , 0.        , 0.25819889, 0.4472136 ,\n",
       "       0.        , 0.2236068 , 0.        , 0.        , 0.4472136 ,\n",
       "       0.31622777, 0.        , 0.4472136 , 0.        , 0.77459667,\n",
       "       0.        , 0.4472136 , 0.        , 0.        , 0.31622777,\n",
       "       0.31622777, 0.25819889, 0.25819889, 0.63245553, 0.31622777,\n",
       "       0.        , 0.        , 0.        , 0.        , 0.        ,\n",
       "       0.31622777, 0.31622777, 0.31622777, 0.        , 0.31622777,\n",
       "       0.        , 0.31622777, 0.        , 0.        , 0.        ,\n",
       "       0.31622777, 0.4472136 , 0.        , 0.        , 0.        ,\n",
       "       0.31622777, 0.        , 0.25819889, 0.        , 0.2236068 ,\n",
       "       0.        , 0.        , 0.4       , 0.31622777, 0.4472136 ,\n",
       "       0.        , 0.        , 0.4472136 , 0.        , 0.        ,\n",
       "       0.        , 0.4472136 , 0.        , 0.31622777, 0.        ,\n",
       "       0.        , 0.4472136 , 0.2236068 , 0.25819889, 0.        ,\n",
       "       0.63245553, 0.        , 0.25819889, 0.31622777, 0.        ,\n",
       "       0.        , 0.31622777, 0.63245553, 0.31622777, 0.77459667,\n",
       "       0.        , 0.4472136 , 0.        , 0.        , 0.        ,\n",
       "       0.4472136 , 0.31622777, 0.        , 0.        , 0.        ,\n",
       "       0.        , 0.        , 0.31622777, 0.        , 0.        ,\n",
       "       0.63245553, 0.51639778, 0.4472136 , 0.        , 0.        ,\n",
       "       0.4472136 , 0.4472136 , 0.        , 0.25819889, 0.77459667,\n",
       "       0.25819889, 0.        , 0.63245553, 0.        , 0.31622777,\n",
       "       0.        , 0.        , 0.        , 0.        , 0.31622777,\n",
       "       0.        , 0.2236068 , 0.        , 0.        , 0.25819889,\n",
       "       0.        , 0.        , 0.        , 0.4472136 , 0.        ,\n",
       "       0.        , 0.        , 0.4472136 , 0.2236068 , 0.        ,\n",
       "       0.31622777, 0.        , 0.        , 0.31622777, 0.4472136 ,\n",
       "       0.        , 0.4472136 , 0.4472136 , 0.        , 0.        ,\n",
       "       0.        , 0.        , 0.2236068 , 0.31622777, 0.        ,\n",
       "       0.        , 0.        , 0.63245553, 0.        , 0.        ,\n",
       "       0.51639778, 0.25819889, 0.        , 0.        , 0.        ,\n",
       "       0.        , 0.25819889, 0.        , 0.        , 0.        ,\n",
       "       0.        , 0.2236068 , 0.25819889, 0.25819889, 0.        ,\n",
       "       0.31622777, 0.        , 0.        , 0.        , 0.31622777,\n",
       "       0.        , 0.25819889, 0.2       , 0.25819889, 0.31622777,\n",
       "       0.2       , 0.        , 0.        , 0.2236068 , 0.31622777,\n",
       "       0.25819889, 0.31622777, 0.        , 0.67082039, 0.        ,\n",
       "       0.4472136 , 0.        , 0.        , 0.25819889, 0.25819889,\n",
       "       0.        , 0.4472136 , 0.        , 0.        , 0.        ,\n",
       "       0.        , 0.        , 0.        , 0.4472136 , 0.31622777,\n",
       "       0.31622777, 0.31622777, 0.        , 0.31622777, 0.25819889,\n",
       "       0.4472136 , 0.        , 0.25819889, 0.        , 0.25819889,\n",
       "       0.25819889, 0.31622777, 0.        , 0.        , 0.31622777,\n",
       "       0.31622777, 0.63245553, 0.4472136 , 0.        , 0.31622777,\n",
       "       0.        , 0.        , 0.31622777, 0.        , 0.        ,\n",
       "       0.        , 0.        , 0.        , 0.        , 0.        ,\n",
       "       0.        , 0.        , 0.        , 0.4472136 , 0.4       ,\n",
       "       0.        , 0.        , 0.31622777, 0.        , 0.31622777,\n",
       "       0.        , 0.        , 0.        , 0.        , 0.        ,\n",
       "       0.        , 0.        , 0.31622777, 0.        , 0.63245553,\n",
       "       0.        , 0.31622777, 0.        , 0.25819889, 0.        ,\n",
       "       0.        , 0.        , 0.31622777, 0.        , 0.        ,\n",
       "       0.        , 0.        , 0.        , 0.4472136 , 0.31622777,\n",
       "       0.        , 0.        , 0.63245553, 0.        , 0.51639778,\n",
       "       0.31622777, 0.77459667, 0.63245553, 0.67082039, 0.31622777,\n",
       "       0.51639778, 0.51639778, 0.51639778, 0.63245553, 0.63245553,\n",
       "       0.51639778, 0.25819889, 0.4472136 , 0.63245553, 0.6       ])"
      ]
     },
     "execution_count": 105,
     "metadata": {},
     "output_type": "execute_result"
    }
   ],
   "source": [
    "cosine_sim_matrix[0]"
   ]
  },
  {
   "cell_type": "markdown",
   "id": "3fd5f436",
   "metadata": {},
   "source": [
    "## Creating a movie finder function"
   ]
  },
  {
   "cell_type": "code",
   "execution_count": null,
   "id": "0f6744a0",
   "metadata": {},
   "outputs": [],
   "source": []
  },
  {
   "cell_type": "code",
   "execution_count": null,
   "id": "a0e986c7",
   "metadata": {},
   "outputs": [],
   "source": []
  },
  {
   "cell_type": "code",
   "execution_count": null,
   "id": "f130a7c1",
   "metadata": {},
   "outputs": [],
   "source": []
  },
  {
   "cell_type": "code",
   "execution_count": null,
   "id": "0779747c",
   "metadata": {},
   "outputs": [],
   "source": []
  },
  {
   "cell_type": "code",
   "execution_count": 96,
   "id": "dd043df1",
   "metadata": {},
   "outputs": [],
   "source": [
    "from fuzzywuzzy import process\n",
    "\n",
    "def movie_finder(title):\n",
    "    all_titles = movies['title'].tolist()\n",
    "    closest_match = process.extractOne(title, all_titles)\n",
    "    return closest_match[0]\n"
   ]
  },
  {
   "cell_type": "code",
   "execution_count": 97,
   "id": "87fa251f",
   "metadata": {},
   "outputs": [
    {
     "data": {
      "text/plain": [
       "'Jumanji (1995)'"
      ]
     },
     "execution_count": 97,
     "metadata": {},
     "output_type": "execute_result"
    }
   ],
   "source": [
    "title = movie_finder('juminji')\n",
    "title"
   ]
  },
  {
   "cell_type": "code",
   "execution_count": 98,
   "id": "7535e90d",
   "metadata": {},
   "outputs": [
    {
     "name": "stdout",
     "output_type": "stream",
     "text": [
      "Movie index for Jumanji: 1\n"
     ]
    }
   ],
   "source": [
    "movie_idx = dict(zip(movies['title'], list(movies.index)))\n",
    "idx = movie_idx[title]\n",
    "print(f\"Movie index for Jumanji: {idx}\")"
   ]
  },
  {
   "cell_type": "code",
   "execution_count": 110,
   "id": "76c63267",
   "metadata": {},
   "outputs": [
    {
     "data": {
      "text/plain": [
       "[(59, 1.0000000000000002),\n",
       " (124, 1.0000000000000002),\n",
       " (986, 1.0000000000000002),\n",
       " (55, 0.8660254037844388),\n",
       " (898, 0.8660254037844388),\n",
       " (7, 0.816496580927726),\n",
       " (144, 0.816496580927726),\n",
       " (156, 0.816496580927726),\n",
       " (235, 0.816496580927726),\n",
       " (479, 0.816496580927726)]"
      ]
     },
     "execution_count": 110,
     "metadata": {},
     "output_type": "execute_result"
    }
   ],
   "source": [
    "n_recommendations=10\n",
    "sim_scores = list(enumerate(cosine_sim_matrix[idx]))\n",
    "# sim_scores\n",
    "sim_scores = sorted(sim_scores, key=lambda x: x[1], reverse=True)\n",
    "sim_scores = sim_scores[1:(n_recommendations+1)]\n",
    "sim_scores"
   ]
  },
  {
   "cell_type": "code",
   "execution_count": 111,
   "id": "8555c57c",
   "metadata": {},
   "outputs": [
    {
     "data": {
      "text/plain": [
       "[59, 124, 986, 55, 898, 7, 144, 156, 235, 479]"
      ]
     },
     "execution_count": 111,
     "metadata": {},
     "output_type": "execute_result"
    }
   ],
   "source": [
    "similar_movies = [i[0] for i in sim_scores]\n",
    "similar_movies"
   ]
  },
  {
   "cell_type": "code",
   "execution_count": 112,
   "id": "7cae54ad",
   "metadata": {},
   "outputs": [
    {
     "name": "stdout",
     "output_type": "stream",
     "text": [
      "Because you watched Jumanji (1995):\n"
     ]
    },
    {
     "data": {
      "text/plain": [
       "59                    Indian in the Cupboard, The (1995)\n",
       "124                    NeverEnding Story III, The (1994)\n",
       "986                      Escape to Witch Mountain (1975)\n",
       "55                        Kids of the Round Table (1995)\n",
       "898                             Wizard of Oz, The (1939)\n",
       "7                                    Tom and Huck (1995)\n",
       "144                  Amazing Panda Adventure, The (1995)\n",
       "156                                        Casper (1995)\n",
       "235    Far From Home: The Adventures of Yellow Dog (1...\n",
       "479                                        Lassie (1994)\n",
       "Name: title, dtype: object"
      ]
     },
     "execution_count": 112,
     "metadata": {},
     "output_type": "execute_result"
    }
   ],
   "source": [
    "print(f\"Because you watched {title}:\")\n",
    "movies['title'].iloc[similar_movies]"
   ]
  },
  {
   "cell_type": "markdown",
   "id": "d249fc22",
   "metadata": {},
   "source": [
    "### Dimensionality Reduction with Matrix Factorization (advanced)"
   ]
  },
  {
   "cell_type": "code",
   "execution_count": 117,
   "id": "d1bb3d69",
   "metadata": {},
   "outputs": [
    {
     "data": {
      "text/plain": [
       "(59047, 20)"
      ]
     },
     "execution_count": 117,
     "metadata": {},
     "output_type": "execute_result"
    }
   ],
   "source": [
    "from sklearn.decomposition import TruncatedSVD\n",
    "\n",
    "svd = TruncatedSVD(n_components=20 , n_iter= 10)\n",
    "Q = svd.fit_transform(X.T)\n",
    "Q.shape\n",
    "# X.shape"
   ]
  },
  {
   "cell_type": "code",
   "execution_count": 118,
   "id": "3190ab23",
   "metadata": {},
   "outputs": [
    {
     "name": "stdout",
     "output_type": "stream",
     "text": [
      "Because you watched Toy Story (1995):\n",
      "Willy Wonka & the Chocolate Factory (1971)\n",
      "Toy Story 2 (1999)\n",
      "Independence Day (a.k.a. ID4) (1996)\n",
      "Lion King, The (1994)\n",
      "Bug's Life, A (1998)\n",
      "Mission: Impossible (1996)\n",
      "Aladdin (1992)\n",
      "Back to the Future (1985)\n",
      "Jurassic Park (1993)\n"
     ]
    }
   ],
   "source": [
    "movie_id = 1\n",
    "similar_movies = find_similar_movies(movie_id, Q.T, movie_mapper, movie_inv_mapper, metric='cosine', k=10)\n",
    "movie_title = movie_titles[movie_id]\n",
    "\n",
    "print(f\"Because you watched {movie_title}:\")\n",
    "for i in similar_movies:\n",
    "    print(movie_titles[i])"
   ]
  },
  {
   "cell_type": "markdown",
   "id": "1aa3176c",
   "metadata": {},
   "source": [
    "The results above are the most similar movies to Toy Story using kNN on our “compressed” movie-factor matrix. We reduced the dimensions down to n_components=20. We can think of each component representing a latent feature such as movie genre."
   ]
  },
  {
   "cell_type": "code",
   "execution_count": null,
   "id": "377b9b75",
   "metadata": {},
   "outputs": [],
   "source": []
  }
 ],
 "metadata": {
  "kernelspec": {
   "display_name": "Python 3 (ipykernel)",
   "language": "python",
   "name": "python3"
  },
  "language_info": {
   "codemirror_mode": {
    "name": "ipython",
    "version": 3
   },
   "file_extension": ".py",
   "mimetype": "text/x-python",
   "name": "python",
   "nbconvert_exporter": "python",
   "pygments_lexer": "ipython3",
   "version": "3.11.5"
  }
 },
 "nbformat": 4,
 "nbformat_minor": 5
}
